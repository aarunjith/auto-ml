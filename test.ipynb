{
 "cells": [
  {
   "cell_type": "code",
   "execution_count": 1,
   "id": "1b4defa7-8e77-4bac-93c5-b53383ded3c5",
   "metadata": {},
   "outputs": [
    {
     "name": "stdout",
     "output_type": "stream",
     "text": [
      "Checking whether there is an H2O instance running at http://localhost:54321 . connected.\n"
     ]
    },
    {
     "data": {
      "text/html": [
       "<div style=\"overflow:auto\"><table style=\"width:50%\"><tr><td>H2O_cluster_uptime:</td>\n",
       "<td>5 hours 43 mins</td></tr>\n",
       "<tr><td>H2O_cluster_timezone:</td>\n",
       "<td>Etc/UTC</td></tr>\n",
       "<tr><td>H2O_data_parsing_timezone:</td>\n",
       "<td>UTC</td></tr>\n",
       "<tr><td>H2O_cluster_version:</td>\n",
       "<td>3.34.0.3</td></tr>\n",
       "<tr><td>H2O_cluster_version_age:</td>\n",
       "<td>25 days </td></tr>\n",
       "<tr><td>H2O_cluster_name:</td>\n",
       "<td>H2O_from_python_ubuntu_bqvalg</td></tr>\n",
       "<tr><td>H2O_cluster_total_nodes:</td>\n",
       "<td>1</td></tr>\n",
       "<tr><td>H2O_cluster_free_memory:</td>\n",
       "<td>7.571 Gb</td></tr>\n",
       "<tr><td>H2O_cluster_total_cores:</td>\n",
       "<td>4</td></tr>\n",
       "<tr><td>H2O_cluster_allowed_cores:</td>\n",
       "<td>4</td></tr>\n",
       "<tr><td>H2O_cluster_status:</td>\n",
       "<td>locked, healthy</td></tr>\n",
       "<tr><td>H2O_connection_url:</td>\n",
       "<td>http://localhost:54321</td></tr>\n",
       "<tr><td>H2O_connection_proxy:</td>\n",
       "<td>{\"http\": null, \"https\": null}</td></tr>\n",
       "<tr><td>H2O_internal_security:</td>\n",
       "<td>False</td></tr>\n",
       "<tr><td>H2O_API_Extensions:</td>\n",
       "<td>Amazon S3, XGBoost, Algos, AutoML, Core V3, TargetEncoder, Core V4</td></tr>\n",
       "<tr><td>Python_version:</td>\n",
       "<td>3.9.0 final</td></tr></table></div>"
      ],
      "text/plain": [
       "--------------------------  ------------------------------------------------------------------\n",
       "H2O_cluster_uptime:         5 hours 43 mins\n",
       "H2O_cluster_timezone:       Etc/UTC\n",
       "H2O_data_parsing_timezone:  UTC\n",
       "H2O_cluster_version:        3.34.0.3\n",
       "H2O_cluster_version_age:    25 days\n",
       "H2O_cluster_name:           H2O_from_python_ubuntu_bqvalg\n",
       "H2O_cluster_total_nodes:    1\n",
       "H2O_cluster_free_memory:    7.571 Gb\n",
       "H2O_cluster_total_cores:    4\n",
       "H2O_cluster_allowed_cores:  4\n",
       "H2O_cluster_status:         locked, healthy\n",
       "H2O_connection_url:         http://localhost:54321\n",
       "H2O_connection_proxy:       {\"http\": null, \"https\": null}\n",
       "H2O_internal_security:      False\n",
       "H2O_API_Extensions:         Amazon S3, XGBoost, Algos, AutoML, Core V3, TargetEncoder, Core V4\n",
       "Python_version:             3.9.0 final\n",
       "--------------------------  ------------------------------------------------------------------"
      ]
     },
     "metadata": {},
     "output_type": "display_data"
    }
   ],
   "source": [
    "from trainer import AutoTrainer"
   ]
  },
  {
   "cell_type": "code",
   "execution_count": 2,
   "id": "5ba6df83-b83a-42f8-9cd5-4d9d392c9a1b",
   "metadata": {},
   "outputs": [],
   "source": [
    "trainer = AutoTrainer(datapath='data/train.csv', task='classify')"
   ]
  },
  {
   "cell_type": "code",
   "execution_count": 3,
   "id": "92ce5413-7ff3-4936-8edf-56fdffaa34ce",
   "metadata": {},
   "outputs": [
    {
     "data": {
      "text/plain": [
       "147"
      ]
     },
     "execution_count": 3,
     "metadata": {},
     "output_type": "execute_result"
    }
   ],
   "source": [
    "trainer.data.Cabin.nunique()"
   ]
  },
  {
   "cell_type": "code",
   "execution_count": 4,
   "id": "1ad75011-f972-4280-b630-7e03b33d6ab8",
   "metadata": {},
   "outputs": [
    {
     "data": {
      "text/plain": [
       "Index(['PassengerId', 'Survived', 'Pclass', 'Name', 'Sex', 'Age', 'SibSp',\n",
       "       'Parch', 'Ticket', 'Fare', 'Cabin', 'Embarked'],\n",
       "      dtype='object')"
      ]
     },
     "execution_count": 4,
     "metadata": {},
     "output_type": "execute_result"
    }
   ],
   "source": [
    "trainer.columns\n"
   ]
  },
  {
   "cell_type": "code",
   "execution_count": 5,
   "id": "c399e21a-5921-43d6-bd38-0fa33a024d75",
   "metadata": {},
   "outputs": [
    {
     "data": {
      "text/plain": [
       "88"
      ]
     },
     "execution_count": 5,
     "metadata": {},
     "output_type": "execute_result"
    }
   ],
   "source": [
    "trainer.data.Age.nunique()"
   ]
  },
  {
   "cell_type": "code",
   "execution_count": 6,
   "id": "f0299784-7e01-4fa4-acd5-683f3ba1b3ef",
   "metadata": {},
   "outputs": [
    {
     "data": {
      "text/plain": [
       "891"
      ]
     },
     "execution_count": 6,
     "metadata": {},
     "output_type": "execute_result"
    }
   ],
   "source": [
    "len(trainer.data)"
   ]
  },
  {
   "cell_type": "code",
   "execution_count": 7,
   "id": "7eee7f74-78eb-48bf-89e8-57ac3e97e128",
   "metadata": {},
   "outputs": [
    {
     "data": {
      "text/plain": [
       "PassengerId      0\n",
       "Survived         0\n",
       "Pclass           0\n",
       "Name             0\n",
       "Sex              0\n",
       "Age            177\n",
       "SibSp            0\n",
       "Parch            0\n",
       "Ticket           0\n",
       "Fare             0\n",
       "Cabin          687\n",
       "Embarked         2\n",
       "dtype: int64"
      ]
     },
     "execution_count": 7,
     "metadata": {},
     "output_type": "execute_result"
    }
   ],
   "source": [
    "trainer.data.isna().sum()"
   ]
  },
  {
   "cell_type": "code",
   "execution_count": 8,
   "id": "39ec5f43-44c4-42c8-aa6c-933c5b0e99f4",
   "metadata": {},
   "outputs": [
    {
     "name": "stderr",
     "output_type": "stream",
     "text": [
      "2021-11-01 14:09:15.858 | INFO     | trainer:set_label:47 - Setting label to : Survived\n"
     ]
    }
   ],
   "source": [
    "trainer.set_label('Survived')"
   ]
  },
  {
   "cell_type": "code",
   "execution_count": 9,
   "id": "3f787733-8393-4e35-a8d5-8bd1d8beb34a",
   "metadata": {},
   "outputs": [
    {
     "name": "stderr",
     "output_type": "stream",
     "text": [
      "2021-11-01 14:09:15.865 | INFO     | trainer:clean_data:60 - Dropping missing labels\n",
      "2021-11-01 14:09:15.867 | INFO     | trainer:clean_data:63 - Encoding categorical values for H2O\n",
      "2021-11-01 14:09:15.871 | WARNING  | trainer:clean_data:92 - Found invalid datatype in Name column. Ignoring this column\n",
      "2021-11-01 14:09:15.877 | WARNING  | trainer:clean_data:92 - Found invalid datatype in Ticket column. Ignoring this column\n",
      "2021-11-01 14:09:15.879 | WARNING  | trainer:clean_data:92 - Found invalid datatype in Cabin column. Ignoring this column\n",
      "2021-11-01 14:09:15.881 | INFO     | trainer:clean_data:103 - Shortlisting selected features and extracting labels\n",
      "2021-11-01 14:09:15.883 | INFO     | trainer:clean_data:106 - Imputed and flagged missing data\n",
      "2021-11-01 14:09:15.883 | INFO     | trainer:clean_data:107 - Categorical Columns Identified : ['Pclass', 'Sex', 'Age', 'SibSp', 'Parch', 'Embarked']\n",
      "2021-11-01 14:09:15.884 | INFO     | trainer:clean_data:108 - Finalise and set categorical columns using .set_categorical if you wanna change this list\n"
     ]
    }
   ],
   "source": [
    "trainer.clean_data()"
   ]
  },
  {
   "cell_type": "code",
   "execution_count": 10,
   "id": "88b1b73f-7f0c-4408-9f6e-1acc298c1ce0",
   "metadata": {},
   "outputs": [
    {
     "data": {
      "text/html": [
       "<div>\n",
       "<style scoped>\n",
       "    .dataframe tbody tr th:only-of-type {\n",
       "        vertical-align: middle;\n",
       "    }\n",
       "\n",
       "    .dataframe tbody tr th {\n",
       "        vertical-align: top;\n",
       "    }\n",
       "\n",
       "    .dataframe thead th {\n",
       "        text-align: right;\n",
       "    }\n",
       "</style>\n",
       "<table border=\"1\" class=\"dataframe\">\n",
       "  <thead>\n",
       "    <tr style=\"text-align: right;\">\n",
       "      <th></th>\n",
       "      <th>PassengerId</th>\n",
       "      <th>Pclass</th>\n",
       "      <th>Sex</th>\n",
       "      <th>Age</th>\n",
       "      <th>Age_imputed</th>\n",
       "      <th>SibSp</th>\n",
       "      <th>Parch</th>\n",
       "      <th>Fare</th>\n",
       "      <th>Embarked</th>\n",
       "      <th>Embarked_imputed</th>\n",
       "      <th>Survived</th>\n",
       "    </tr>\n",
       "  </thead>\n",
       "  <tbody>\n",
       "    <tr>\n",
       "      <th>0</th>\n",
       "      <td>1</td>\n",
       "      <td>3</td>\n",
       "      <td>male</td>\n",
       "      <td>22.0</td>\n",
       "      <td>0</td>\n",
       "      <td>1</td>\n",
       "      <td>0</td>\n",
       "      <td>7.2500</td>\n",
       "      <td>S</td>\n",
       "      <td>0</td>\n",
       "      <td>cbbc8eb50c7c4766</td>\n",
       "    </tr>\n",
       "    <tr>\n",
       "      <th>1</th>\n",
       "      <td>2</td>\n",
       "      <td>1</td>\n",
       "      <td>female</td>\n",
       "      <td>38.0</td>\n",
       "      <td>0</td>\n",
       "      <td>1</td>\n",
       "      <td>0</td>\n",
       "      <td>71.2833</td>\n",
       "      <td>C</td>\n",
       "      <td>0</td>\n",
       "      <td>3e8f7b82f7fc9eb9</td>\n",
       "    </tr>\n",
       "    <tr>\n",
       "      <th>2</th>\n",
       "      <td>3</td>\n",
       "      <td>3</td>\n",
       "      <td>female</td>\n",
       "      <td>26.0</td>\n",
       "      <td>0</td>\n",
       "      <td>0</td>\n",
       "      <td>0</td>\n",
       "      <td>7.9250</td>\n",
       "      <td>S</td>\n",
       "      <td>0</td>\n",
       "      <td>3e8f7b82f7fc9eb9</td>\n",
       "    </tr>\n",
       "    <tr>\n",
       "      <th>3</th>\n",
       "      <td>4</td>\n",
       "      <td>1</td>\n",
       "      <td>female</td>\n",
       "      <td>35.0</td>\n",
       "      <td>0</td>\n",
       "      <td>1</td>\n",
       "      <td>0</td>\n",
       "      <td>53.1000</td>\n",
       "      <td>S</td>\n",
       "      <td>0</td>\n",
       "      <td>3e8f7b82f7fc9eb9</td>\n",
       "    </tr>\n",
       "    <tr>\n",
       "      <th>4</th>\n",
       "      <td>5</td>\n",
       "      <td>3</td>\n",
       "      <td>male</td>\n",
       "      <td>35.0</td>\n",
       "      <td>0</td>\n",
       "      <td>0</td>\n",
       "      <td>0</td>\n",
       "      <td>8.0500</td>\n",
       "      <td>S</td>\n",
       "      <td>0</td>\n",
       "      <td>cbbc8eb50c7c4766</td>\n",
       "    </tr>\n",
       "  </tbody>\n",
       "</table>\n",
       "</div>"
      ],
      "text/plain": [
       "   PassengerId  Pclass     Sex   Age  Age_imputed  SibSp  Parch     Fare  \\\n",
       "0            1       3    male  22.0            0      1      0   7.2500   \n",
       "1            2       1  female  38.0            0      1      0  71.2833   \n",
       "2            3       3  female  26.0            0      0      0   7.9250   \n",
       "3            4       1  female  35.0            0      1      0  53.1000   \n",
       "4            5       3    male  35.0            0      0      0   8.0500   \n",
       "\n",
       "  Embarked  Embarked_imputed          Survived  \n",
       "0        S                 0  cbbc8eb50c7c4766  \n",
       "1        C                 0  3e8f7b82f7fc9eb9  \n",
       "2        S                 0  3e8f7b82f7fc9eb9  \n",
       "3        S                 0  3e8f7b82f7fc9eb9  \n",
       "4        S                 0  cbbc8eb50c7c4766  "
      ]
     },
     "execution_count": 10,
     "metadata": {},
     "output_type": "execute_result"
    }
   ],
   "source": [
    "trainer.data.head()"
   ]
  },
  {
   "cell_type": "code",
   "execution_count": 11,
   "id": "874dc038-84c8-41a3-8478-60bfa4ef854b",
   "metadata": {},
   "outputs": [],
   "source": [
    "trainer.set_categorical(['Pclass', 'Sex', 'SibSp', 'Parch', 'Embarked'])"
   ]
  },
  {
   "cell_type": "code",
   "execution_count": 13,
   "id": "d322db9e-04ad-4840-afbe-0e4a9815a053",
   "metadata": {},
   "outputs": [
    {
     "name": "stdout",
     "output_type": "stream",
     "text": [
      "Parse progress: |████████████████████████████████████████████████████████████████| (done) 100%\n",
      "AutoML progress: |███████████████████████████████████████████████████████████████| (done) 100%\n"
     ]
    },
    {
     "data": {
      "text/plain": [
       "('/home/ubuntu/auto-ml/models/GBM_3_AutoML_15_20211101_141016',\n",
       " {'model_id': 'GBM_3_AutoML_15_20211101_141016',\n",
       "  'auc': 0.870684139131325,\n",
       "  'logloss': 0.4174736038579009,\n",
       "  'aucpr': 0.8917185873853662,\n",
       "  'mean_per_class_error': 0.2129797889312619,\n",
       "  'rmse': 0.3598752676506595,\n",
       "  'mse': 0.1295102082666338})"
      ]
     },
     "execution_count": 13,
     "metadata": {},
     "output_type": "execute_result"
    },
    {
     "name": "stdout",
     "output_type": "stream",
     "text": [
      "Checking whether there is an H2O instance running at http://localhost:54321 ."
     ]
    },
    {
     "name": "stderr",
     "output_type": "stream",
     "text": [
      "INFO:     Started server process [306770]\n",
      "INFO:     Waiting for application startup.\n",
      "INFO:     Application startup complete.\n",
      "INFO:     Uvicorn running on http://0.0.0.0:8898 (Press CTRL+C to quit)\n"
     ]
    },
    {
     "name": "stdout",
     "output_type": "stream",
     "text": [
      " connected.\n",
      "--------------------------  ------------------------------------------------------------------\n",
      "H2O_cluster_uptime:         5 hours 44 mins\n",
      "H2O_cluster_timezone:       Etc/UTC\n",
      "H2O_data_parsing_timezone:  UTC\n",
      "H2O_cluster_version:        3.34.0.3\n",
      "H2O_cluster_version_age:    25 days\n",
      "H2O_cluster_name:           H2O_from_python_ubuntu_bqvalg\n",
      "H2O_cluster_total_nodes:    1\n",
      "H2O_cluster_free_memory:    7.546 Gb\n",
      "H2O_cluster_total_cores:    4\n",
      "H2O_cluster_allowed_cores:  4\n",
      "H2O_cluster_status:         locked, healthy\n",
      "H2O_connection_url:         http://localhost:54321\n",
      "H2O_connection_proxy:       {\"http\": null, \"https\": null}\n",
      "H2O_internal_security:      False\n",
      "H2O_API_Extensions:         Amazon S3, XGBoost, Algos, AutoML, Core V3, TargetEncoder, Core V4\n",
      "Python_version:             3.9.0 final\n",
      "--------------------------  ------------------------------------------------------------------\n",
      "INFO:     117.216.234.236:55743 - \"GET /docs HTTP/1.1\" 200 OK\n",
      "INFO:     117.216.234.236:55743 - \"GET /openapi.json HTTP/1.1\" 200 OK\n"
     ]
    }
   ],
   "source": [
    "trainer.initiate(runtime=30, index_column='PassengerId', host='0.0.0.0', port='8898')"
   ]
  },
  {
   "cell_type": "code",
   "execution_count": 14,
   "id": "5e534013-2892-45a6-8855-a218787167c0",
   "metadata": {},
   "outputs": [],
   "source": [
    "import pandas as pd\n",
    "test = pd.read_csv('data/test.csv')"
   ]
  },
  {
   "cell_type": "code",
   "execution_count": 15,
   "id": "d40968c2-931f-473b-a8fa-4f159685a36c",
   "metadata": {},
   "outputs": [],
   "source": [
    "test_dict = {\"data\": test.iloc[:10,:].to_dict()}"
   ]
  },
  {
   "cell_type": "code",
   "execution_count": 16,
   "id": "4dfd508a-7485-4c08-9217-979de3aece5c",
   "metadata": {},
   "outputs": [],
   "source": [
    "import json\n",
    "test_json = json.dumps(test_dict)"
   ]
  },
  {
   "cell_type": "code",
   "execution_count": 24,
   "id": "66fe4776-1ba0-46e3-9c76-a6be40f35226",
   "metadata": {},
   "outputs": [
    {
     "name": "stdout",
     "output_type": "stream",
     "text": [
      "INFO:     44.199.112.30:55688 - \"POST /validate HTTP/1.1\" 307 Temporary Redirect\n",
      "/home/ubuntu/auto-ml/models/GBM_3_AutoML_15_20211101_141016\n",
      "Parse progress: |████████████████████████████████████████████████████████████████| (done) 100%\n",
      "gbm prediction progress: |███████████████████████████████████████████████████████| (done) 100%\n",
      "INFO:     44.199.112.30:55688 - \"POST /validate/ HTTP/1.1\" 200 OK\n",
      "\n",
      "\n",
      "***************PREDICTIONS************\n",
      "\n",
      "\n",
      "{\"predictions\":[{\"1\":0.0350651881373564,\"0\":0.9649348118626436,\"predict\":\"0\"},{\"1\":0.1697548360919155,\"0\":0.8302451639080844,\"predict\":\"0\"},{\"1\":0.0208622738524174,\"0\":0.9791377261475824,\"predict\":\"0\"},{\"1\":0.3144009066433313,\"0\":0.6855990933566687,\"predict\":\"0\"},{\"1\":0.4465614148034418,\"0\":0.5534385851965582,\"predict\":\"0\"},{\"1\":0.1666349453529083,\"0\":0.8333650546470917,\"predict\":\"0\"},{\"1\":0.6203217894099354,\"0\":0.3796782105900645,\"predict\":\"1\"},{\"1\":0.4749778433113899,\"0\":0.5250221566886101,\"predict\":\"0\"},{\"1\":0.7396494685764656,\"0\":0.2603505314235344,\"predict\":\"1\"},{\"1\":0.0257743354372909,\"0\":0.9742256645627092,\"predict\":\"0\"}]}\n"
     ]
    },
    {
     "name": "stderr",
     "output_type": "stream",
     "text": [
      "2021-11-01 14:13:11.145 | INFO     | api:validate_performance:45 - Constants for column Cabin not found\n"
     ]
    }
   ],
   "source": [
    "import requests\n",
    "\n",
    "url = \"http://44.199.112.30:8898/validate\"\n",
    "\n",
    "payload = test_json\n",
    "headers = {\n",
    "  'Content-Type': 'application/json'\n",
    "}\n",
    "\n",
    "response = requests.request(\"POST\", url, headers=headers, data = payload)\n",
    "print(\"\\n\\n***************PREDICTIONS************\\n\\n\")\n",
    "print(response.text)"
   ]
  },
  {
   "cell_type": "code",
   "execution_count": null,
   "id": "215eca4a-8b2b-4ab2-8983-632a9690a2ea",
   "metadata": {},
   "outputs": [],
   "source": []
  }
 ],
 "metadata": {
  "kernelspec": {
   "display_name": "Python 3 (ipykernel)",
   "language": "python",
   "name": "python3"
  },
  "language_info": {
   "codemirror_mode": {
    "name": "ipython",
    "version": 3
   },
   "file_extension": ".py",
   "mimetype": "text/x-python",
   "name": "python",
   "nbconvert_exporter": "python",
   "pygments_lexer": "ipython3",
   "version": "3.9.0"
  }
 },
 "nbformat": 4,
 "nbformat_minor": 5
}
